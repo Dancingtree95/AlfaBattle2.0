{
  "nbformat": 4,
  "nbformat_minor": 0,
  "metadata": {
    "colab": {
      "name": "AlfaTransactions.ipynb",
      "provenance": [],
      "collapsed_sections": [],
      "authorship_tag": "ABX9TyNEoWveu01vX2IudfhheBaI",
      "include_colab_link": true
    },
    "kernelspec": {
      "name": "python3",
      "display_name": "Python 3"
    },
    "language_info": {
      "name": "python"
    },
    "accelerator": "GPU"
  },
  "cells": [
    {
      "cell_type": "markdown",
      "metadata": {
        "id": "view-in-github",
        "colab_type": "text"
      },
      "source": [
        "<a href=\"https://colab.research.google.com/github/Dancingtree95/AlfaBattle2.0/blob/master/AlfaTransactions.ipynb\" target=\"_parent\"><img src=\"https://colab.research.google.com/assets/colab-badge.svg\" alt=\"Open In Colab\"/></a>"
      ]
    },
    {
      "cell_type": "code",
      "source": [
        "%%capture\n",
        "!wget https://storage.yandexcloud.net/ds-ods/files/materials/6e991b7f/train_transactions_contest.zip\n",
        "!wget https://storage.yandexcloud.net/ds-ods/files/materials/fc0f1aa3/test_transactions_contest.zip\n",
        "!wget https://storage.yandexcloud.net/ds-ods/files/materials/3634ff95/train_target.csv\n",
        "!wget https://storage.yandexcloud.net/ds-ods/files/materials/b2216108/test_target_contest.csv"
      ],
      "metadata": {
        "id": "OhPVIfJEEo-z"
      },
      "execution_count": 4,
      "outputs": []
    },
    {
      "cell_type": "code",
      "source": [
        "%%capture\n",
        "!unzip train_transactions_contest.zip\n",
        "!rm train_transactions_contest.zip"
      ],
      "metadata": {
        "id": "qXvRC9ekI8D6"
      },
      "execution_count": 5,
      "outputs": []
    },
    {
      "cell_type": "code",
      "source": [
        "!git clone https://github.com/smirnovevgeny/AlfaBattle2.0.git"
      ],
      "metadata": {
        "colab": {
          "base_uri": "https://localhost:8080/"
        },
        "id": "ITTspOPPJ3rI",
        "outputId": "25611e18-2fe7-4fda-ab1a-f479cd51d9c7"
      },
      "execution_count": 1,
      "outputs": [
        {
          "output_type": "stream",
          "name": "stdout",
          "text": [
            "Cloning into 'AlfaBattle2.0'...\n",
            "remote: Enumerating objects: 57, done.\u001b[K\n",
            "remote: Counting objects: 100% (57/57), done.\u001b[K\n",
            "remote: Compressing objects: 100% (48/48), done.\u001b[K\n",
            "remote: Total 57 (delta 22), reused 35 (delta 8), pack-reused 0\u001b[K\n",
            "Unpacking objects: 100% (57/57), done.\n"
          ]
        }
      ]
    },
    {
      "cell_type": "code",
      "source": [
        "import os\n",
        "import pandas as pd\n",
        "import sys\n",
        "import pickle\n",
        "import numpy as np\n",
        "import torch\n",
        "import torch.nn as nn\n",
        "\n",
        "from sklearn.model_selection import train_test_split\n",
        "from tqdm.notebook import tqdm\n",
        "\n",
        "os.environ[\"CUDA_VISIBLE_DEVICES\"] = '1'"
      ],
      "metadata": {
        "id": "cd5sNZ76KO9K"
      },
      "execution_count": 7,
      "outputs": []
    },
    {
      "cell_type": "code",
      "source": [
        "sys.path.append('AlfaBattle2.0')\n",
        "sys.path.append('AlfaBattle2.0/rnn_baseline')\n",
        "sys.path.append('AlfaBattle2.0/rnn_baseline/baseline')"
      ],
      "metadata": {
        "id": "FMYnrTymItPx"
      },
      "execution_count": 8,
      "outputs": []
    },
    {
      "cell_type": "code",
      "source": [
        "TRAIN_TRANSACTIONS_PATH = 'train_transactions_contest'\n",
        "TRAIN_TARGET_PATH = 'train_target.csv'"
      ],
      "metadata": {
        "id": "ShRvgt28LYwA"
      },
      "execution_count": 9,
      "outputs": []
    },
    {
      "cell_type": "code",
      "source": [
        "target_frame = pd.read_csv(TRAIN_TARGET_PATH)\n",
        "target_frame.head()"
      ],
      "metadata": {
        "colab": {
          "base_uri": "https://localhost:8080/",
          "height": 206
        },
        "id": "t1OAsa9dLaMI",
        "outputId": "2b438b17-ca72-4217-dd44-620aa757f933"
      },
      "execution_count": 10,
      "outputs": [
        {
          "output_type": "execute_result",
          "data": {
            "text/plain": [
              "   app_id  product  flag\n",
              "0       0        3     0\n",
              "1       1        1     0\n",
              "2       2        1     0\n",
              "3       3        1     0\n",
              "4       4        1     0"
            ],
            "text/html": [
              "\n",
              "  <div id=\"df-4459e0d6-933f-4eab-b247-62c01595cc70\">\n",
              "    <div class=\"colab-df-container\">\n",
              "      <div>\n",
              "<style scoped>\n",
              "    .dataframe tbody tr th:only-of-type {\n",
              "        vertical-align: middle;\n",
              "    }\n",
              "\n",
              "    .dataframe tbody tr th {\n",
              "        vertical-align: top;\n",
              "    }\n",
              "\n",
              "    .dataframe thead th {\n",
              "        text-align: right;\n",
              "    }\n",
              "</style>\n",
              "<table border=\"1\" class=\"dataframe\">\n",
              "  <thead>\n",
              "    <tr style=\"text-align: right;\">\n",
              "      <th></th>\n",
              "      <th>app_id</th>\n",
              "      <th>product</th>\n",
              "      <th>flag</th>\n",
              "    </tr>\n",
              "  </thead>\n",
              "  <tbody>\n",
              "    <tr>\n",
              "      <th>0</th>\n",
              "      <td>0</td>\n",
              "      <td>3</td>\n",
              "      <td>0</td>\n",
              "    </tr>\n",
              "    <tr>\n",
              "      <th>1</th>\n",
              "      <td>1</td>\n",
              "      <td>1</td>\n",
              "      <td>0</td>\n",
              "    </tr>\n",
              "    <tr>\n",
              "      <th>2</th>\n",
              "      <td>2</td>\n",
              "      <td>1</td>\n",
              "      <td>0</td>\n",
              "    </tr>\n",
              "    <tr>\n",
              "      <th>3</th>\n",
              "      <td>3</td>\n",
              "      <td>1</td>\n",
              "      <td>0</td>\n",
              "    </tr>\n",
              "    <tr>\n",
              "      <th>4</th>\n",
              "      <td>4</td>\n",
              "      <td>1</td>\n",
              "      <td>0</td>\n",
              "    </tr>\n",
              "  </tbody>\n",
              "</table>\n",
              "</div>\n",
              "      <button class=\"colab-df-convert\" onclick=\"convertToInteractive('df-4459e0d6-933f-4eab-b247-62c01595cc70')\"\n",
              "              title=\"Convert this dataframe to an interactive table.\"\n",
              "              style=\"display:none;\">\n",
              "        \n",
              "  <svg xmlns=\"http://www.w3.org/2000/svg\" height=\"24px\"viewBox=\"0 0 24 24\"\n",
              "       width=\"24px\">\n",
              "    <path d=\"M0 0h24v24H0V0z\" fill=\"none\"/>\n",
              "    <path d=\"M18.56 5.44l.94 2.06.94-2.06 2.06-.94-2.06-.94-.94-2.06-.94 2.06-2.06.94zm-11 1L8.5 8.5l.94-2.06 2.06-.94-2.06-.94L8.5 2.5l-.94 2.06-2.06.94zm10 10l.94 2.06.94-2.06 2.06-.94-2.06-.94-.94-2.06-.94 2.06-2.06.94z\"/><path d=\"M17.41 7.96l-1.37-1.37c-.4-.4-.92-.59-1.43-.59-.52 0-1.04.2-1.43.59L10.3 9.45l-7.72 7.72c-.78.78-.78 2.05 0 2.83L4 21.41c.39.39.9.59 1.41.59.51 0 1.02-.2 1.41-.59l7.78-7.78 2.81-2.81c.8-.78.8-2.07 0-2.86zM5.41 20L4 18.59l7.72-7.72 1.47 1.35L5.41 20z\"/>\n",
              "  </svg>\n",
              "      </button>\n",
              "      \n",
              "  <style>\n",
              "    .colab-df-container {\n",
              "      display:flex;\n",
              "      flex-wrap:wrap;\n",
              "      gap: 12px;\n",
              "    }\n",
              "\n",
              "    .colab-df-convert {\n",
              "      background-color: #E8F0FE;\n",
              "      border: none;\n",
              "      border-radius: 50%;\n",
              "      cursor: pointer;\n",
              "      display: none;\n",
              "      fill: #1967D2;\n",
              "      height: 32px;\n",
              "      padding: 0 0 0 0;\n",
              "      width: 32px;\n",
              "    }\n",
              "\n",
              "    .colab-df-convert:hover {\n",
              "      background-color: #E2EBFA;\n",
              "      box-shadow: 0px 1px 2px rgba(60, 64, 67, 0.3), 0px 1px 3px 1px rgba(60, 64, 67, 0.15);\n",
              "      fill: #174EA6;\n",
              "    }\n",
              "\n",
              "    [theme=dark] .colab-df-convert {\n",
              "      background-color: #3B4455;\n",
              "      fill: #D2E3FC;\n",
              "    }\n",
              "\n",
              "    [theme=dark] .colab-df-convert:hover {\n",
              "      background-color: #434B5C;\n",
              "      box-shadow: 0px 1px 3px 1px rgba(0, 0, 0, 0.15);\n",
              "      filter: drop-shadow(0px 1px 2px rgba(0, 0, 0, 0.3));\n",
              "      fill: #FFFFFF;\n",
              "    }\n",
              "  </style>\n",
              "\n",
              "      <script>\n",
              "        const buttonEl =\n",
              "          document.querySelector('#df-4459e0d6-933f-4eab-b247-62c01595cc70 button.colab-df-convert');\n",
              "        buttonEl.style.display =\n",
              "          google.colab.kernel.accessAllowed ? 'block' : 'none';\n",
              "\n",
              "        async function convertToInteractive(key) {\n",
              "          const element = document.querySelector('#df-4459e0d6-933f-4eab-b247-62c01595cc70');\n",
              "          const dataTable =\n",
              "            await google.colab.kernel.invokeFunction('convertToInteractive',\n",
              "                                                     [key], {});\n",
              "          if (!dataTable) return;\n",
              "\n",
              "          const docLinkHtml = 'Like what you see? Visit the ' +\n",
              "            '<a target=\"_blank\" href=https://colab.research.google.com/notebooks/data_table.ipynb>data table notebook</a>'\n",
              "            + ' to learn more about interactive tables.';\n",
              "          element.innerHTML = '';\n",
              "          dataTable['output_type'] = 'display_data';\n",
              "          await google.colab.output.renderOutput(dataTable, element);\n",
              "          const docLink = document.createElement('div');\n",
              "          docLink.innerHTML = docLinkHtml;\n",
              "          element.appendChild(docLink);\n",
              "        }\n",
              "      </script>\n",
              "    </div>\n",
              "  </div>\n",
              "  "
            ]
          },
          "metadata": {},
          "execution_count": 10
        }
      ]
    },
    {
      "cell_type": "code",
      "source": [
        "from utils import read_parquet_dataset_from_local\n",
        "from dataset_preprocessing_utils import transform_transactions_to_sequences, create_padded_buckets"
      ],
      "metadata": {
        "id": "G3cSjqxrL2c9"
      },
      "execution_count": 11,
      "outputs": []
    },
    {
      "cell_type": "code",
      "source": [
        "import pickle\n",
        "\n",
        "with open('/content/AlfaBattle2.0/rnn_baseline/constants/buckets_info.pkl', 'rb') as f:\n",
        "    mapping_seq_len_to_padded_len = pickle.load(f)\n",
        "    \n",
        "with open('/content/AlfaBattle2.0/rnn_baseline/constants/dense_features_buckets.pkl', 'rb') as f:\n",
        "    dense_features_buckets = pickle.load(f)\n",
        "\n",
        "with open('/content/AlfaBattle2.0/rnn_baseline/constants/embedding_projections.pkl', 'rb') as f:\n",
        "  embedding_projections = pickle.load(f)"
      ],
      "metadata": {
        "id": "uvSpYnQF4dEp"
      },
      "execution_count": 2,
      "outputs": []
    },
    {
      "cell_type": "code",
      "source": [
        "def create_buckets_from_transactions(path_to_dataset, save_to_path, frame_with_ids = None, \n",
        "                                     num_parts_to_preprocess_at_once: int = 1, \n",
        "                                     num_parts_total=50, has_target=False):\n",
        "    block = 0\n",
        "    for step in tqdm(range(0, num_parts_total, num_parts_to_preprocess_at_once), \n",
        "                                   desc=\"Transforming transactions data\"):\n",
        "        transactions_frame = read_parquet_dataset_from_local(path_to_dataset, step, num_parts_to_preprocess_at_once, \n",
        "                                                             verbose=True)\n",
        "        for dense_col in ['amnt', 'days_before', 'hour_diff']:\n",
        "            transactions_frame[dense_col] = np.digitize(transactions_frame[dense_col], bins=dense_features_buckets[dense_col])\n",
        "            \n",
        "        seq = transform_transactions_to_sequences(transactions_frame)\n",
        "        seq['sequence_length'] = seq.sequences.apply(lambda x: len(x[1]))\n",
        "        \n",
        "        if frame_with_ids is not None:\n",
        "            seq = seq.merge(frame_with_ids, on='app_id')\n",
        "\n",
        "        block_as_str = str(block)\n",
        "        if len(block_as_str) == 1:\n",
        "            block_as_str = '00' + block_as_str\n",
        "        else:\n",
        "            block_as_str = '0' + block_as_str\n",
        "            \n",
        "        processed_fragment =  create_padded_buckets(seq, mapping_seq_len_to_padded_len, has_target=has_target, \n",
        "                                                    save_to_file_path=os.path.join(save_to_path, \n",
        "                                                                                   f'processed_chunk_{block_as_str}.pkl'))\n",
        "        block += 1"
      ],
      "metadata": {
        "id": "58cf9_Sv5CdJ"
      },
      "execution_count": null,
      "outputs": []
    },
    {
      "cell_type": "code",
      "source": [
        ""
      ],
      "metadata": {
        "id": "yNhtV87kWXUs"
      },
      "execution_count": null,
      "outputs": []
    }
  ]
}